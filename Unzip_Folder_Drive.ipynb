{
  "nbformat": 4,
  "nbformat_minor": 0,
  "metadata": {
    "colab": {
      "provenance": [],
      "authorship_tag": "ABX9TyOoulkJxc543ES5cQc65bpW",
      "include_colab_link": true
    },
    "kernelspec": {
      "name": "python3",
      "display_name": "Python 3"
    },
    "language_info": {
      "name": "python"
    }
  },
  "cells": [
    {
      "cell_type": "markdown",
      "metadata": {
        "id": "view-in-github",
        "colab_type": "text"
      },
      "source": [
        "<a href=\"https://colab.research.google.com/github/nqthaivl/Colab-Unzip-Folder-Google-Drive/blob/main/Unzip_Folder_Drive.ipynb\" target=\"_parent\"><img src=\"https://colab.research.google.com/assets/colab-badge.svg\" alt=\"Open In Colab\"/></a>"
      ]
    },
    {
      "cell_type": "code",
      "execution_count": 1,
      "metadata": {
        "colab": {
          "base_uri": "https://localhost:8080/"
        },
        "id": "wrjdEUnJ38pn",
        "outputId": "76938bbd-af94-4811-f933-9708b5273bd6"
      },
      "outputs": [
        {
          "output_type": "stream",
          "name": "stdout",
          "text": [
            "Mounted at /content/drive\n"
          ]
        }
      ],
      "source": [
        "# @title Mout Drive vào Ubuntu\n",
        "from google.colab import drive\n",
        "drive.mount('/content/drive')"
      ]
    },
    {
      "cell_type": "code",
      "source": [
        "# @title Chuyển file cần unzip về thư mục \"mv\" là tên thư mục bạn tạo\n",
        "!mv /content/drive/MyDrive/EFI.zip /content/mv"
      ],
      "metadata": {
        "id": "zBPx2NgV7PDy"
      },
      "execution_count": 4,
      "outputs": []
    },
    {
      "cell_type": "code",
      "source": [
        "# @title Unzip file vào thư mục MV\n",
        "!unzip /content/mv/EFI.zip -d /content/mv"
      ],
      "metadata": {
        "id": "W1fo5URF7vjB"
      },
      "execution_count": null,
      "outputs": []
    }
  ]
}